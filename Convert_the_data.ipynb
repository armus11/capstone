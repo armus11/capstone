{
  "nbformat": 4,
  "nbformat_minor": 0,
  "metadata": {
    "colab": {
      "provenance": []
    },
    "kernelspec": {
      "name": "python3",
      "display_name": "Python 3"
    },
    "language_info": {
      "name": "python"
    }
  },
  "cells": [
    {
      "cell_type": "code",
      "execution_count": null,
      "metadata": {
        "colab": {
          "base_uri": "https://localhost:8080/"
        },
        "id": "iaZKzjQyARhF",
        "outputId": "4db7cad0-734d-4586-be93-87c5a10c156a"
      },
      "outputs": [
        {
          "output_type": "stream",
          "name": "stdout",
          "text": [
            "Drive already mounted at /content/drive; to attempt to forcibly remount, call drive.mount(\"/content/drive\", force_remount=True).\n"
          ]
        }
      ],
      "source": [
        "import os\n",
        "import yaml\n",
        "import pandas as pd\n",
        "import cv2\n",
        "import yaml\n",
        "import numpy as np\n",
        "from PIL import Image\n",
        "from google.colab import drive\n",
        "drive.mount('/content/drive')"
      ]
    },
    {
      "cell_type": "code",
      "source": [
        "print(os.listdir('/content/drive/Shareddrives/Capstone | Visual identification of persons with limited mobility/Dataset'))"
      ],
      "metadata": {
        "colab": {
          "base_uri": "https://localhost:8080/"
        },
        "id": "dcsW5pjbBBvY",
        "outputId": "7842f2f3-c3b1-42d0-9026-9341d256eaf9"
      },
      "execution_count": null,
      "outputs": [
        {
          "output_type": "stream",
          "name": "stdout",
          "text": [
            "['Images_RGB', 'Annotations_RGB', 'YOLO_ANNOTATIONS']\n"
          ]
        }
      ]
    },
    {
      "cell_type": "code",
      "source": [
        "yaml_dir = '/content/drive/Shareddrives/Capstone | Visual identification of persons with limited mobility/Dataset/Annotations_RGB'\n",
        "yolo_dir = '/content/drive/Shareddrives/Capstone | Visual identification of persons with limited mobility/Dataset/YOLO_ANNOTATIONS'\n",
        "img_dir = '/content/drive/Shareddrives/Capstone | Visual identification of persons with limited mobility/Dataset/Images_RGB'"
      ],
      "metadata": {
        "id": "JaJ4VNglBDEk"
      },
      "execution_count": null,
      "outputs": []
    },
    {
      "cell_type": "code",
      "source": [
        "# Define the label names\n",
        "label_names = [\"person\", \"crutches\", \"wheelchair\", \"walking_frame\", \"push_wheelchair\"]  # Add all label names here\n",
        "\n",
        "# Loop through all the YAML annotation files in the directory\n",
        "for filename in os.listdir(yaml_dir ):\n",
        "    if filename.endswith(\".yml\") or filename.endswith(\".yaml\"):\n",
        "        # Load the YAML annotation file\n",
        "        with open(os.path.join(yaml_dir , filename), \"r\") as f:\n",
        "            yaml_annotations = yaml.safe_load(f)\n",
        "\n",
        "        image_filename = os.path.splitext(filename)[0]\n",
        "        yolo_filename = image_filename + \".txt\"\n",
        "\n",
        "        # Check if there are any objects in the annotation file\n",
        "        if \"object\" not in yaml_annotations[\"annotation\"]:\n",
        "            open(os.path.join(yolo_dir, yolo_filename + '.txt'), 'a').close()\n",
        "            continue\n",
        "\n",
        "        # Extract the image filename without the extension\n",
        "          # Assumes that image filename is of the form \"seq_*.jpg\"\n",
        "        # Convert the YAML annotations to YOLO format\n",
        "        with open(os.path.join(yolo_dir, yolo_filename), \"w\") as f:\n",
        "            for annotation in yaml_annotations[\"annotation\"][\"object\"]:\n",
        "                x_min = int(annotation[\"bndbox\"][\"xmin\"])\n",
        "                y_min = int(annotation[\"bndbox\"][\"ymin\"])\n",
        "                x_max = int(annotation[\"bndbox\"][\"xmax\"])\n",
        "                y_max = int(annotation[\"bndbox\"][\"ymax\"])\n",
        "                image_width = int(yaml_annotations[\"annotation\"][\"size\"][\"width\"])\n",
        "                image_height = int(yaml_annotations[\"annotation\"][\"size\"][\"height\"])\n",
        "                x_center = (x_min + x_max) / (2.0 * image_width)\n",
        "                y_center = (y_min + y_max) / (2.0 * image_height)\n",
        "                width = (x_max - x_min) / image_width\n",
        "                height = (y_max - y_min) / image_height\n",
        "                class_name = annotation[\"name\"]\n",
        "                class_id = label_names.index(class_name)\n",
        "                yolo_annotation = f\"{class_id} {x_center} {y_center} {width} {height}\\n\"\n",
        "                f.write(yolo_annotation)\n"
      ],
      "metadata": {
        "id": "qQ1owmkoE9ch"
      },
      "execution_count": null,
      "outputs": []
    },
    {
      "cell_type": "code",
      "source": [
        "import os\n",
        "import yaml\n",
        "\n",
        "input_dir = 'path/to/yaml/annotations'\n",
        "output_dir = 'path/to/yolo/annotations'\n",
        "\n",
        "if not os.path.exists(output_dir):\n",
        "    os.makedirs(output_dir)\n",
        "\n",
        "for filename in os.listdir(input_dir):\n",
        "    if filename.endswith('.yml') or filename.endswith('.yaml'):\n",
        "        with open(os.path.join(input_dir, filename), 'r') as f:\n",
        "            data = yaml.load(f, Loader=yaml.FullLoader)\n",
        "            image_filename = os.path.splitext(filename)[0]\n",
        "            yolo_filename = image_filename + \".txt\"\n",
        "            if 'object' in data['annotation']:\n",
        "                height = data['annotation']['size']['height']\n",
        "                width = data['annotation']['size']['width']\n",
        "                with open(os.path.join(output_dir, yolo_filename + '.txt'), 'w') as out_file:\n",
        "                    for obj in data['annotation']['object']:\n",
        "                        name = obj['name']\n",
        "                        xmin = obj['bndbox']['xmin']\n",
        "                        ymin = obj['bndbox']['ymin']\n",
        "                        xmax = obj['bndbox']['xmax']\n",
        "                        ymax = obj['bndbox']['ymax']\n",
        "                        x_center = (xmin + xmax) / 2 / width\n",
        "                        y_center = (ymin + ymax) / 2 / height\n",
        "                        obj_width = (xmax - xmin) / width\n",
        "                        obj_height = (ymax - ymin) / height\n",
        "                        out_file.write(f\"{name} {x_center:.6f} {y_center:.6f} {obj_width:.6f} {obj_height:.6f}\\n\")\n",
        "            else:\n",
        "                # Create an empty file\n",
        "                open(os.path.join(output_dir, yolo_filename + '.txt'), 'a').close()"
      ],
      "metadata": {
        "id": "fQidMi-NJRVb"
      },
      "execution_count": null,
      "outputs": []
    },
    {
      "cell_type": "code",
      "source": [
        "# Get the list of files in the folder\n",
        "file_list = os.listdir(yolo_dir)\n",
        "file_list2 = os.listdir(img_dir)\n",
        "\n",
        "# Get the number of files in the folder\n",
        "num_files = len(file_list)\n",
        "num_files1 = len(file_list2)\n",
        "\n",
        "print('Number of files in the folder:', num_files)\n",
        "print('Number of files in the folder1:', num_files1)"
      ],
      "metadata": {
        "colab": {
          "base_uri": "https://localhost:8080/"
        },
        "id": "oKJMSQRsRcKx",
        "outputId": "c6beea86-63c1-421a-8957-b5a69bb191da"
      },
      "execution_count": null,
      "outputs": [
        {
          "output_type": "stream",
          "name": "stdout",
          "text": [
            "Number of files in the folder: 15278\n",
            "Number of files in the folder1: 17082\n"
          ]
        }
      ]
    },
    {
      "cell_type": "code",
      "source": [],
      "metadata": {
        "id": "qq_YhojKKSGT"
      },
      "execution_count": null,
      "outputs": []
    }
  ]
}